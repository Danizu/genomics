{
 "cells": [
  {
   "cell_type": "markdown",
   "metadata": {},
   "source": [
    "\n",
    "# Your data file was loaded into a botocore.response.StreamingBody object.\n",
    "# Please read the documentation of ibm_boto3 and pandas to learn more about your possibilities to load the data.\n",
    "# ibm_boto3 documentation: https://ibm.github.io/ibm-cos-sdk-python/\n",
    "# pandas documentation: http://pandas.pydata.org/\n",
    "streaming_body_6 = client_6a0ba3944e2049c5a18c05adcdb36b67.get_object(Bucket='genomica-donotdelete-pr-i7p4mrbalfhwir', Key='ls_orchid.fasta')['Body']\n",
    "# add missing __iter__ method so pandas accepts body as file-like object\n",
    "if not hasattr(streaming_body_6, \"__iter__\"): streaming_body_6.__iter__ = types.MethodType( __iter__, streaming_body_6 ) \n",
    "\n",
    "**Genomic sequence with Biopython and IBM Watson Studio**\n",
    "\n",
    "I use IBM Watson Studio to build Jupyter Notebook for Machine Learning and Deep Learning models but I didn’t had the opportunity to write a Notebook to analyze genomic sequence. So two days ago I discovered this new (for me) world of genomic data. First of all working with genomic data means that you have to manage particular file type such as “fasta” and “Genbank” file. Fortunately I discovered Biopython and an online tutorial that was a game changer for me: http://biopython.org/DIST/docs/tutorial/Tutorial.html\n",
    " \n",
    "This is the Notebook that, following a subset of Biopython tutorial, I prepared in IBM Watson Studio using Python V2.7 and a Jupyther Notebook.\n",
    "First of all I uploaded in IBM Cloud Object Storage two different file format containing orchid genomic sequence. The file format I used are:\n",
    "\n",
    "*\tfasta: as explained in Wikipedia https://en.wikipedia.org/wiki/FASTA_format\n",
    "in bioinformatics “FASTA format is a text-based format for representing either nucleotide sequences or peptide sequences, in which nucleotides or amino acids are represented using single-letter codes. The format also allows for sequence names and comments to precede the sequences. The format originates from the FASTA software package, but has now become a standard in the field of bioinformatics”\n",
    "\n",
    "*\tgenbank: as explained by ISOGG, https://isogg.org/wiki/GenBank \n",
    "Genbank is an Open Access Database with “annotated collection of all publicly available nucleotide sequences and their protein translations”. ISOGG stands for International Society of Genetic Genealogy.\n",
    "The file with orchid genomic sequence was obtained at the following link:\n",
    "\n",
    "Fasta: https://raw.githubusercontent.com/biopython/biopython/master/Doc/examples/ls_orchid.fasta\n",
    "Genbanck: https://raw.githubusercontent.com/biopython/biopython/master/Doc/examples/ls_orchid.gbk\n",
    "\n",
    "\n",
    "Here you can find Biopython tutorial:\n",
    "\n",
    "http://biopython.org/DIST/docs/tutorial/Tutorial.html"
   ]
  },
  {
   "cell_type": "code",
   "execution_count": 1,
   "metadata": {
    "scrolled": true
   },
   "outputs": [
    {
     "name": "stdout",
     "output_type": "stream",
     "text": [
      "Collecting reportlab\n",
      "  Downloading https://files.pythonhosted.org/packages/91/a5/185e8852d76eaba35eb9d027229c1b11180bceb139144faf5159705402f2/reportlab-3.5.9-cp27-cp27mu-manylinux1_x86_64.whl (2.6MB)\n",
      "\u001b[K    100% |████████████████████████████████| 2.6MB 359kB/s eta 0:00:01\n",
      "\u001b[?25hRequirement not upgraded as not directly required: pillow>=4.0.0 in /opt/conda/envs/DSX-Python27/lib/python2.7/site-packages (from reportlab)\n",
      "Requirement not upgraded as not directly required: olefile in /opt/conda/envs/DSX-Python27/lib/python2.7/site-packages (from pillow>=4.0.0->reportlab)\n",
      "Installing collected packages: reportlab\n",
      "Successfully installed reportlab-3.5.9\n"
     ]
    }
   ],
   "source": [
    "#!pip install biopython\n",
    "#!pip install --upgrade biopython\n",
    "!pip install --upgrade --force-reinstall reportlab\n",
    "#http://biopython.org/DIST/docs/tutorial/Tutorial.html"
   ]
  },
  {
   "cell_type": "code",
   "execution_count": null,
   "metadata": {},
   "outputs": [],
   "source": [
    "#https://stackoverflow.com/questions/29690273/reading-a-fasta-file-from-url-address\n",
    "#https://stackoverflow.com/questions/52630322/watsonstudio-and-biopython-and-fasta-file-saved-on-s3-objectstorage/52637262#52637262"
   ]
  },
  {
   "cell_type": "code",
   "execution_count": 3,
   "metadata": {},
   "outputs": [],
   "source": [
    "\n",
    "import sys\n",
    "import types\n",
    "import pandas as pd\n",
    "from botocore.client import Config\n",
    "import ibm_boto3\n",
    "\n",
    "def __iter__(self): return 0\n",
    "\n",
    "# @hidden_cell\n",
    "# The following code accesses a file in your IBM Cloud Object Storage. It includes your credentials.\n",
    "# You might want to remove those credentials before you share your notebook.\n",
    "client_6a0ba3944e2049c5a18c05adcdb36b67 = ibm_boto3.client(service_name='s3',\n",
    "    ibm_api_key_id='7OUJqGN8L_RiPeeIb87037njPdBHmsVvFVZ-sQAK4rCJ',\n",
    "    ibm_auth_endpoint=\"https://iam.ng.bluemix.net/oidc/token\",\n",
    "    config=Config(signature_version='oauth'),\n",
    "    endpoint_url='https://s3-api.us-geo.objectstorage.service.networklayer.com')\n",
    "\n",
    "# Your data file was loaded into a botocore.response.StreamingBody object.\n",
    "# Please read the documentation of ibm_boto3 and pandas to learn more about your possibilities to load the data.\n",
    "# ibm_boto3 documentation: https://ibm.github.io/ibm-cos-sdk-python/\n",
    "# pandas documentation: http://pandas.pydata.org/\n",
    "streaming_body_2 = client_6a0ba3944e2049c5a18c05adcdb36b67.get_object(Bucket='genomica-donotdelete-pr-i7p4mrbalfhwir', Key='ls_orchid.fasta')['Body']\n",
    "# add missing __iter__ method, so pandas accepts body as file-like object\n",
    "if not hasattr(streaming_body_2, \"__iter__\"): streaming_body_2.__iter__ = types.MethodType( __iter__, streaming_body_2 ) \n",
    "\n"
   ]
  },
  {
   "cell_type": "markdown",
   "metadata": {},
   "source": [
    "we’re just going to have to have a plant based example (sorry to all the fans of other organisms out there!). Having just completed a recent trip to our local greenhouse, we’ve suddenly developed an incredible obsession with Lady Slipper Orchids (if you wonder why, have a look at some Lady Slipper Orchids photos on Flickr, or try a Google Image Search).\n",
    "\n",
    " We will load the orchid DNA sequences in the FASTA format file ls_orchid.fasta\n",
    " We are using lady slipper orchids\n",
    "It contains 94 records, each has a line starting with “>” (greater-than symbol) followed by the sequence on one or more lines.\n"
   ]
  },
  {
   "cell_type": "code",
   "execution_count": 4,
   "metadata": {},
   "outputs": [],
   "source": [
    "fastareadbytes = streaming_body_2.read()"
   ]
  },
  {
   "cell_type": "markdown",
   "metadata": {},
   "source": [
    "The SeqRecord (Sequence Record) class is defined in the Bio.SeqRecord module. This class allows higher level features such as identifiers and features to be associated with a sequence (see Chapter 3), and is the basic data type for the Bio.SeqIO sequence input/output interface (see Chapter 5).\n",
    "\n",
    "The SeqRecord class itself is quite simple, and offers the following information as attributes:\n",
    "\n",
    ".seq\n",
    "    – The sequence itself, typically a Seq object.\n",
    ".id\n",
    "    – The primary ID used to identify the sequence – a string. In most cases this is something like an accession number.\n",
    ".name\n",
    "    – A “common” name/id for the sequence – a string. In some cases this will be the same as the accession number, but it could also be a clone name. I think of this as being analogous to the LOCUS id in a GenBank record.\n",
    ".description\n",
    "    – A human readable description or expressive name for the sequence – a string.\n",
    ".letter_annotations\n",
    "    – Holds per-letter-annotations using a (restricted) dictionary of additional information about the letters in the sequence. The keys are the name of the information, and the information is contained in the value as a Python sequence (i.e. a list, tuple or string) with the same length as the sequence itself. This is often used for quality scores (e.g. Section 20.1.6) or secondary structure information (e.g. from Stockholm/PFAM alignment files)."
   ]
  },
  {
   "cell_type": "code",
   "execution_count": 5,
   "metadata": {},
   "outputs": [
    {
     "name": "stdout",
     "output_type": "stream",
     "text": [
      "gi|2765658|emb|Z78533.1|CIZ78533\n",
      "Seq('CGTAACAAGGTTTCCGTAGGTGAACCTGCGGAAGGATCATTGATGAGACCGTGG...CGC', SingleLetterAlphabet())\n",
      "740\n",
      "gi|2765657|emb|Z78532.1|CCZ78532\n",
      "Seq('CGTAACAAGGTTTCCGTAGGTGAACCTGCGGAAGGATCATTGTTGAGACAACAG...GGC', SingleLetterAlphabet())\n",
      "753\n",
      "gi|2765656|emb|Z78531.1|CFZ78531\n",
      "Seq('CGTAACAAGGTTTCCGTAGGTGAACCTGCGGAAGGATCATTGTTGAGACAGCAG...TAA', SingleLetterAlphabet())\n",
      "748\n",
      "gi|2765655|emb|Z78530.1|CMZ78530\n",
      "Seq('CGTAACAAGGTTTCCGTAGGTGAACCTGCGGAAGGATCATTGTTGAAACAACAT...CAT', SingleLetterAlphabet())\n",
      "744\n",
      "gi|2765654|emb|Z78529.1|CLZ78529\n",
      "Seq('ACGGCGAGCTGCCGAAGGACATTGTTGAGACAGCAGAATATACGATTGAGTGAA...AAA', SingleLetterAlphabet())\n",
      "733\n",
      "gi|2765652|emb|Z78527.1|CYZ78527\n",
      "Seq('CGTAACAAGGTTTCCGTAGGTGAACCTGCGGAAGGATCATTGTTGAGACAGTAG...CCC', SingleLetterAlphabet())\n",
      "718\n",
      "gi|2765651|emb|Z78526.1|CGZ78526\n",
      "Seq('CGTAACAAGGTTTCCGTAGGTGAACCTGCGGAAGGATCATTGTTGAGACAGTAG...TGT', SingleLetterAlphabet())\n",
      "730\n",
      "gi|2765650|emb|Z78525.1|CAZ78525\n",
      "Seq('TGTTGAGATAGCAGAATATACATCGAGTGAATCCGGAGGACCTGTGGTTATTCG...GCA', SingleLetterAlphabet())\n",
      "704\n",
      "gi|2765649|emb|Z78524.1|CFZ78524\n",
      "Seq('CGTAACAAGGTTTCCGTAGGTGAACCTGCGGAAGGATCATTGTTGAGATAGTAG...AGC', SingleLetterAlphabet())\n",
      "740\n",
      "gi|2765648|emb|Z78523.1|CHZ78523\n",
      "Seq('CGTAACCAGGTTTCCGTAGGTGAACCTGCGGCAGGATCATTGTTGAGACAGCAG...AAG', SingleLetterAlphabet())\n",
      "709\n",
      "gi|2765647|emb|Z78522.1|CMZ78522\n",
      "Seq('CGTAACAAGGTTTCCGTAGGTGAACCTGCGGAAGGATCATTGTTGAGACAGCAG...GAG', SingleLetterAlphabet())\n",
      "700\n",
      "gi|2765646|emb|Z78521.1|CCZ78521\n",
      "Seq('GTAGGTGAACCTGCGGAAGGATCATTGTTGAGACAGTAGAATATATGATCGAGT...ACC', SingleLetterAlphabet())\n",
      "726\n",
      "gi|2765645|emb|Z78520.1|CSZ78520\n",
      "Seq('CGTAACAAGGTTTCCGTAGGTGAACCTGCGGAAGGATCATTGTTGAGACAGCAG...TTT', SingleLetterAlphabet())\n",
      "753\n",
      "gi|2765644|emb|Z78519.1|CPZ78519\n",
      "Seq('ATATGATCGAGTGAATCTGGTGGACTTGTGGTTACTCAGCTCGCCATAGGCTTT...TTA', SingleLetterAlphabet())\n",
      "699\n",
      "gi|2765643|emb|Z78518.1|CRZ78518\n",
      "Seq('CGTAACAAGGTTTCCGTAGGTGAACCTGCGGGAGGATCATTGTTGAGATAGTAG...TCC', SingleLetterAlphabet())\n",
      "658\n",
      "gi|2765642|emb|Z78517.1|CFZ78517\n",
      "Seq('CGTAACAAGGTTTCCGTAGGTGAACCTGCGGAAGGATCATTGTTGAGACAGTAG...AGC', SingleLetterAlphabet())\n",
      "752\n",
      "gi|2765641|emb|Z78516.1|CPZ78516\n",
      "Seq('CGTAACAAGGTTTCCGTAGGTGAACCTGCGGAAGGATCATTGTTGAGACAGTAT...TAA', SingleLetterAlphabet())\n",
      "726\n",
      "gi|2765640|emb|Z78515.1|MXZ78515\n",
      "Seq('CGTAACAAGGTTTCCGTAGGTGAACCTGCGGAAGGATCATTGCTGAGACCGTAG...AGC', SingleLetterAlphabet())\n",
      "765\n",
      "gi|2765639|emb|Z78514.1|PSZ78514\n",
      "Seq('CGTAACAAGGTTTCCGTAGGTGGACCTTCGGGAGGATCATTTTTGAAGCCCCCA...CTA', SingleLetterAlphabet())\n",
      "755\n",
      "gi|2765638|emb|Z78513.1|PBZ78513\n",
      "Seq('CGTAACAAGGTTTCCGTAGGTGAACCTGCGGAAGGATCATTGTTGAGACCGCCA...GAG', SingleLetterAlphabet())\n",
      "742\n",
      "gi|2765637|emb|Z78512.1|PWZ78512\n",
      "Seq('CGTAACAAGGTTTCCGTAGGTGGACCTTCGGGAGGATCATTTTTGAAGCCCCCA...AGC', SingleLetterAlphabet())\n",
      "762\n",
      "gi|2765636|emb|Z78511.1|PEZ78511\n",
      "Seq('CGTAACAAGGTTTCCGTAGGTGAACCTTCGGAAGGATCATTGTTGAGACCCCCA...GGA', SingleLetterAlphabet())\n",
      "745\n",
      "gi|2765635|emb|Z78510.1|PCZ78510\n",
      "Seq('CTAACCAGGGTTCCGAGGTGACCTTCGGGAGGATTCCTTTTTAAGCCCCCGAAA...TTA', SingleLetterAlphabet())\n",
      "750\n",
      "gi|2765634|emb|Z78509.1|PPZ78509\n",
      "Seq('CGTAACAAGGTTTCCGTAGGTGAACCTGCGGAAGGATCATTGTTGAGACCGCCA...GGA', SingleLetterAlphabet())\n",
      "731\n",
      "gi|2765633|emb|Z78508.1|PLZ78508\n",
      "Seq('CGTAACAAGGTTTCCGTAGGTGAACCTGCGGAAGGATCATTGTTGAGACCGCCA...TGA', SingleLetterAlphabet())\n",
      "741\n",
      "gi|2765632|emb|Z78507.1|PLZ78507\n",
      "Seq('CGTAACAAGGTTTCCGTAGGTGAACCTGCGGAAGGATCATTGTTGAGACCCCCA...TGA', SingleLetterAlphabet())\n",
      "740\n",
      "gi|2765631|emb|Z78506.1|PLZ78506\n",
      "Seq('CGTAACAAGGTTTCCGTAGGTGAACCTGCGGAAGGATCATTGTTGAGACCGCAA...TGA', SingleLetterAlphabet())\n",
      "727\n",
      "gi|2765630|emb|Z78505.1|PSZ78505\n",
      "Seq('CGTAACAAGGTTTCCGTAGGTGAACCTGCGGAAGGATCATTGTTGAGACCGCCA...TTT', SingleLetterAlphabet())\n",
      "711\n",
      "gi|2765629|emb|Z78504.1|PKZ78504\n",
      "Seq('CGTAACAAGGTTTCCGTAGGTGAACCTTCGGAAGGATCATTGTTGAGACCGCAA...TAA', SingleLetterAlphabet())\n",
      "743\n",
      "gi|2765628|emb|Z78503.1|PCZ78503\n",
      "Seq('CGTAACCAGGTTTCCGTAGGTGAACCTCCGGAAGGATCCTTGTTGAGACCGCCA...TAA', SingleLetterAlphabet())\n",
      "727\n",
      "gi|2765627|emb|Z78502.1|PBZ78502\n",
      "Seq('CGTAACCAGGTTTCCGTAGGTGAACCTCCGGAAGGATCATTGTTGAGACCGCCA...CGC', SingleLetterAlphabet())\n",
      "757\n",
      "gi|2765626|emb|Z78501.1|PCZ78501\n",
      "Seq('CGTAACAAGGTTTCCGTAGGTGAACCTGCGGAAGGATCATTGTTGAGACCGCAA...AGA', SingleLetterAlphabet())\n",
      "770\n",
      "gi|2765625|emb|Z78500.1|PWZ78500\n",
      "Seq('CGTAACAAGGTTTCCGTAGGTGAACCTGCGGAAGGCTCATTGTTGAGACCGCAA...AAG', SingleLetterAlphabet())\n",
      "767\n",
      "gi|2765624|emb|Z78499.1|PMZ78499\n",
      "Seq('CGTAACAAGGTTTCCGTAGGTGAACCTGCGGAGGGATCATTGTTGAGATCGCAT...ACC', SingleLetterAlphabet())\n",
      "759\n",
      "gi|2765623|emb|Z78498.1|PMZ78498\n",
      "Seq('CGTAACAAGGTTTCCGTAGGTGAACCTGCGGAAAGGTCATTGTTGAGATCACAT...AGC', SingleLetterAlphabet())\n",
      "750\n",
      "gi|2765622|emb|Z78497.1|PDZ78497\n",
      "Seq('CGTAACAAGGTTTCCGTAGGTGAACCTGCGGAAGGATCATTGTTGAGATCACAT...AGC', SingleLetterAlphabet())\n",
      "788\n",
      "gi|2765621|emb|Z78496.1|PAZ78496\n",
      "Seq('CGTAACAAGGTTTCCGTAGGTGAACCTGCGGAAGGATCATTGTTGAGATCGCAT...AGC', SingleLetterAlphabet())\n",
      "774\n",
      "gi|2765620|emb|Z78495.1|PEZ78495\n",
      "Seq('CGTAACAAGGTTTCCGTAGGTGAACCTCCGGAAGGATCATTGTTGAGATCACAT...GTG', SingleLetterAlphabet())\n",
      "789\n",
      "gi|2765619|emb|Z78494.1|PNZ78494\n",
      "Seq('CGTAACAAGGTTTCCGTAGGTGAACCTGCGGAAGGATCATTGTTGAGGTCGCAT...AAG', SingleLetterAlphabet())\n",
      "688\n",
      "gi|2765618|emb|Z78493.1|PGZ78493\n",
      "Seq('CGTAACAAGGATTCCGTAGGTGAACCTGCGGAAGGATCATTGTTGAGATCGCAT...CCC', SingleLetterAlphabet())\n",
      "719\n",
      "gi|2765617|emb|Z78492.1|PBZ78492\n",
      "Seq('CGTAACAAGGTTTCCGTAGGTGAACCTGCGGAAGGATCATTGTTGAGATCGCAT...ATA', SingleLetterAlphabet())\n",
      "743\n",
      "gi|2765616|emb|Z78491.1|PCZ78491\n",
      "Seq('CGTAACAAGGTTTCCGTAGGTGAACCTGCGGAAGGATCATTGTTGAGATCGCAT...AGC', SingleLetterAlphabet())\n",
      "737\n",
      "gi|2765615|emb|Z78490.1|PFZ78490\n",
      "Seq('CGTAACAAGGTTTCCGTAGGTGAACCTGCGGAAGGATCATTGTTGAGATCACAT...TGA', SingleLetterAlphabet())\n",
      "728\n",
      "gi|2765614|emb|Z78489.1|PDZ78489\n",
      "Seq('CGTAACAAGGTTTCCGTAGGTGAACCTGCGGAAGGATCATTGTTGAGATCACAT...GGC', SingleLetterAlphabet())\n",
      "740\n",
      "gi|2765613|emb|Z78488.1|PTZ78488\n",
      "Seq('CTGTAGGTGAACCTGCGGAAGGATCATTGTTGAGATCACGCAATAATTGATCGA...GCT', SingleLetterAlphabet())\n",
      "696\n",
      "gi|2765612|emb|Z78487.1|PHZ78487\n",
      "Seq('CGTAACAAGGTTTCCGTAGGTGAACCTGCGGAAGGATCATTGTTGAGATCACAT...TAA', SingleLetterAlphabet())\n",
      "732\n",
      "gi|2765611|emb|Z78486.1|PBZ78486\n",
      "Seq('CGTCACGAGGTTTCCGTAGGTGAATCTGCGGGAGGATCATTGTTGAGATCACAT...TGA', SingleLetterAlphabet())\n",
      "731\n",
      "gi|2765610|emb|Z78485.1|PHZ78485\n",
      "Seq('CTGAACCTGGTGTCCGAAGGTGAATCTGCGGATGGATCATTGTTGAGATATCAT...GTA', SingleLetterAlphabet())\n",
      "735\n",
      "gi|2765609|emb|Z78484.1|PCZ78484\n",
      "Seq('CGTAACAAGGTTTCCGTAGGTGAACCTGGGGAAGGATCATTGTTGAGATCACAT...TTT', SingleLetterAlphabet())\n",
      "720\n",
      "gi|2765608|emb|Z78483.1|PVZ78483\n",
      "Seq('CGTAACAAGGTTTCCGTAGGTGAACCTGCGGAAGGATCATTGTTGAGATCACAT...GCA', SingleLetterAlphabet())\n",
      "740\n",
      "gi|2765607|emb|Z78482.1|PEZ78482\n",
      "Seq('TCTACTGCAGTGACCGAGATTTGCCATCGAGCCTCCTGGGAGCTTTCTTGCTGG...GCA', SingleLetterAlphabet())\n",
      "629\n",
      "gi|2765606|emb|Z78481.1|PIZ78481\n",
      "Seq('CGTAACAAGGTTTCCGTAGGTGAACCTGCGGAAGGATCATTGTTGAGATCACAT...TGA', SingleLetterAlphabet())\n",
      "572\n",
      "gi|2765605|emb|Z78480.1|PGZ78480\n",
      "Seq('CGTAACAAGGTTTCCGTAGGTGAACCTGCGGAAGGATCATTGTTGAGATCACAT...TGA', SingleLetterAlphabet())\n",
      "587\n",
      "gi|2765604|emb|Z78479.1|PPZ78479\n",
      "Seq('CGTAACAAGGTTTCCGTAGGTGAACCTGCGGAAGGATCATTGTTGAGATCACAT...AGT', SingleLetterAlphabet())\n",
      "700\n",
      "gi|2765603|emb|Z78478.1|PVZ78478\n",
      "Seq('CGTAACAAGGTTTCCGTAGGTGAACCTCCGGAAGGATCAGTGTTGAGATCACAT...GGC', SingleLetterAlphabet())\n",
      "636\n",
      "gi|2765602|emb|Z78477.1|PVZ78477\n",
      "Seq('CGTAACAAGGTTTCCGTAGGTGAACCTGCGGAAGGATCATTGTTGAGATCACAT...TGC', SingleLetterAlphabet())\n",
      "716\n",
      "gi|2765601|emb|Z78476.1|PGZ78476\n",
      "Seq('CGTAACAAGGTTTCCGTAGGTGAACCTGCGGAAGGATCATTGTTGAGATCACAT...CCC', SingleLetterAlphabet())\n",
      "592\n",
      "gi|2765600|emb|Z78475.1|PSZ78475\n",
      "Seq('CGTAACAAGGTTTCCGTAGGTGAACCTGCGGAAGGATCATTGTTGAGATCACAT...GGT', SingleLetterAlphabet())\n",
      "716\n",
      "gi|2765599|emb|Z78474.1|PKZ78474\n",
      "Seq('CGTAACAAGGTTTCCGTAGGTGAACCTGCGGAAGGATCATTGTTGAGATCACGT...CTT', SingleLetterAlphabet())\n",
      "733\n",
      "gi|2765598|emb|Z78473.1|PSZ78473\n",
      "Seq('CGTAACAAGGTTTCCGTAGGTGAACCTGCGGAAGGATCATTGTTGAGATCACAT...AGG', SingleLetterAlphabet())\n",
      "626\n",
      "gi|2765597|emb|Z78472.1|PLZ78472\n",
      "Seq('CGTAACAAGGTTTCCGTAGGTGAACCTGCGGAAGGATCATTGTTGAGATCACAT...AGC', SingleLetterAlphabet())\n",
      "737\n",
      "gi|2765596|emb|Z78471.1|PDZ78471\n",
      "Seq('CGTAACAAGGTTTCCGTAGGTGAACCTGCGGAAGGATCATTGTTGAGATCACAT...AGC', SingleLetterAlphabet())\n",
      "740\n",
      "gi|2765595|emb|Z78470.1|PPZ78470\n",
      "Seq('CGTAACAAGGTTTCCGTAGGTGAACCTGCGGAAGGATCATTGTTGAGATCACAT...GTT', SingleLetterAlphabet())\n",
      "574\n",
      "gi|2765594|emb|Z78469.1|PHZ78469\n",
      "Seq('CGTAACAAGGTTTCCGTAGGTGAACCTGCGGAAGGATCATTGTTGAGATCACAT...GTT', SingleLetterAlphabet())\n",
      "594\n",
      "gi|2765593|emb|Z78468.1|PAZ78468\n",
      "Seq('CGTAACAAGGTTTCCGTAGGTGAACCTGCGGAAGGATCATTGTTGAGATCGCAT...GTT', SingleLetterAlphabet())\n",
      "610\n",
      "gi|2765592|emb|Z78467.1|PSZ78467\n",
      "Seq('CGTAACAAGGTTTCCGTAGGTGAACCTGCGGAAGGATCATTGTTGAGATCACAT...TGA', SingleLetterAlphabet())\n",
      "730\n",
      "gi|2765591|emb|Z78466.1|PPZ78466\n",
      "Seq('CGTAACAAGGTTTCCGTAGGTGAACCTGCGGAAGGATCATTGTTGAGATCACAT...CCC', SingleLetterAlphabet())\n",
      "641\n",
      "gi|2765590|emb|Z78465.1|PRZ78465\n",
      "Seq('CGTAACAAGGTTTCCGTAGGTGAACCTGCGGAAGGATCATTGTTGAGATCACAT...TGC', SingleLetterAlphabet())\n",
      "702\n",
      "gi|2765589|emb|Z78464.1|PGZ78464\n",
      "Seq('CGTAACAAGGTTTCCGTAGGTGAGCGGAAGGGTCATTGTTGAGATCACATAATA...AGC', SingleLetterAlphabet())\n",
      "733\n",
      "gi|2765588|emb|Z78463.1|PGZ78463\n",
      "Seq('CGTAACAAGGTTTCCGTAGGTGAACCTGCGGAAGGTTCATTGTTGAGATCACAT...AGC', SingleLetterAlphabet())\n",
      "738\n",
      "gi|2765587|emb|Z78462.1|PSZ78462\n",
      "Seq('CGTCACGAGGTCTCCGGATGTGACCCTGCGGAAGGATCATTGTTGAGATCACAT...CAT', SingleLetterAlphabet())\n",
      "736\n",
      "gi|2765586|emb|Z78461.1|PWZ78461\n",
      "Seq('CGTAACAAGGTTTCCGTAGGTGAACCTCCGGAAGGATCATTGTTGAGATCACAT...TAA', SingleLetterAlphabet())\n",
      "732\n",
      "gi|2765585|emb|Z78460.1|PCZ78460\n",
      "Seq('CGTAACAAGGTTTCCGTAGGTGAACCTCCGGAAGGATCATTGTTGAGATCACAT...TTA', SingleLetterAlphabet())\n",
      "745\n",
      "gi|2765584|emb|Z78459.1|PDZ78459\n",
      "Seq('CGTAACAAGGTTTCCGTAGGTGAACCTGCGGAAGGATCATTGTTGAGATCACAT...TTT', SingleLetterAlphabet())\n",
      "744\n",
      "gi|2765583|emb|Z78458.1|PHZ78458\n",
      "Seq('CGTAACAAGGTTTCCGTAGGTGAACCTGCGGAAGGATCATTGTTGAGATCACAT...TTG', SingleLetterAlphabet())\n",
      "738\n",
      "gi|2765582|emb|Z78457.1|PCZ78457\n",
      "Seq('CGTAACAAGGTTTCCGTAGGTGAACCTCCGGAAGGATCATTGTTGAGATCACAT...GAG', SingleLetterAlphabet())\n",
      "739\n",
      "gi|2765581|emb|Z78456.1|PTZ78456\n",
      "Seq('CGTAACAAGGTTTCCGTAGGTGAACCTGCGGAAGGATCATTGTTGAGATCACAT...AGC', SingleLetterAlphabet())\n",
      "740\n",
      "gi|2765580|emb|Z78455.1|PJZ78455\n",
      "Seq('CGTAACCAGGTTTCCGTAGGTGGACCTTCGGGAGGATCATTTTTGAGATCACAT...GCA', SingleLetterAlphabet())\n",
      "745\n",
      "gi|2765579|emb|Z78454.1|PFZ78454\n",
      "Seq('CGTAACAAGGTTTCCGTAGGTGAACCTGCGGAAGGATCATTGTTGAGATCACAT...AAC', SingleLetterAlphabet())\n",
      "695\n",
      "gi|2765578|emb|Z78453.1|PSZ78453\n",
      "Seq('CGTAACAAGGTTTCCGTAGGTGAACCTGCGGAAGGATCATTGTTGAGATCACAT...GCA', SingleLetterAlphabet())\n",
      "745\n",
      "gi|2765577|emb|Z78452.1|PBZ78452\n",
      "Seq('CGTAACAAGGTTTCCGTAGGTGAACCTGCGGAAGGATCATTGTTGAGATCACAT...GCA', SingleLetterAlphabet())\n",
      "743\n",
      "gi|2765576|emb|Z78451.1|PHZ78451\n",
      "Seq('CGTAACAAGGTTTCCGTAGGTGTACCTCCGGAAGGATCATTGTTGAGATCACAT...AGC', SingleLetterAlphabet())\n",
      "730\n",
      "gi|2765575|emb|Z78450.1|PPZ78450\n",
      "Seq('GGAAGGATCATTGCTGATATCACATAATAATTGATCGAGTTAAGCTGGAGGATC...GAG', SingleLetterAlphabet())\n",
      "706\n",
      "gi|2765574|emb|Z78449.1|PMZ78449\n",
      "Seq('CGTAACAAGGTTTCCGTAGGTGAACCTGCGGAAGGATCATTGTTGAGATCACAT...TGC', SingleLetterAlphabet())\n",
      "744\n",
      "gi|2765573|emb|Z78448.1|PAZ78448\n",
      "Seq('CGTAACAAGGTTTCCGTAGGTGAACCTGCGGAAGGATCATTGTTGAGATCACAT...AGG', SingleLetterAlphabet())\n",
      "742\n",
      "gi|2765572|emb|Z78447.1|PVZ78447\n",
      "Seq('CGTAACAAGGATTCCGTAGGTGAACCTGCGGGAGGATCATTGTTGAGATCACAT...AGC', SingleLetterAlphabet())\n",
      "694\n",
      "gi|2765571|emb|Z78446.1|PAZ78446\n",
      "Seq('CGTAACAAGGTTTCCGTAGGTGAACCTCCGGAAGGATCATTGTTGAGATCACAT...CCC', SingleLetterAlphabet())\n",
      "712\n",
      "gi|2765570|emb|Z78445.1|PUZ78445\n",
      "Seq('CGTAACAAGGTTTCCGTAGGTGAACCTGCGGAAGGATCATTGTTGAGATCACAT...TGT', SingleLetterAlphabet())\n",
      "715\n",
      "gi|2765569|emb|Z78444.1|PAZ78444\n",
      "Seq('CGTAACAAGGTTTCCGTAGGGTGAACTGCGGAAGGATCATTGTTGAGATCACAT...ATT', SingleLetterAlphabet())\n",
      "688\n",
      "gi|2765568|emb|Z78443.1|PLZ78443\n",
      "Seq('CGTAACAAGGTTTCCGTAGGTGAACCTGCGGAAGGATCATTGTTGAGATCACAT...AGG', SingleLetterAlphabet())\n",
      "784\n",
      "gi|2765567|emb|Z78442.1|PBZ78442\n",
      "Seq('GTAGGTGAACCTGCGGAAGGATCATTGTTGAGATCACATAATAATTGATCGAGT...AGT', SingleLetterAlphabet())\n",
      "721\n",
      "gi|2765566|emb|Z78441.1|PSZ78441\n",
      "Seq('GGAAGGTCATTGCCGATATCACATAATAATTGATCGAGTTAATCTGGAGGATCT...GAG', SingleLetterAlphabet())\n",
      "703\n",
      "gi|2765565|emb|Z78440.1|PPZ78440\n",
      "Seq('CGTAACAAGGTTTCCGTAGGTGGACCTCCGGGAGGATCATTGTTGAGATCACAT...GCA', SingleLetterAlphabet())\n",
      "744\n",
      "gi|2765564|emb|Z78439.1|PBZ78439\n",
      "Seq('CATTGTTGAGATCACATAATAATTGATCGAGTTAATCTGGAGGATCTGTTTACT...GCC', SingleLetterAlphabet())\n",
      "592\n"
     ]
    }
   ],
   "source": [
    "from io import StringIO\n",
    "from Bio import SeqIO\n",
    "for seq_record in SeqIO.parse(StringIO(fastareadbytes.decode('utf-8')), \"fasta\"):\n",
    "    print(seq_record.id)\n",
    "    print(repr(seq_record.seq))\n",
    "    print(len(seq_record))"
   ]
  },
  {
   "cell_type": "code",
   "execution_count": 6,
   "metadata": {},
   "outputs": [],
   "source": [
    "\n",
    "# Your data file was loaded into a botocore.response.StreamingBody object.\n",
    "# Please read the documentation of ibm_boto3 and pandas to learn more about your possibilities to load the data.\n",
    "# ibm_boto3 documentation: https://ibm.github.io/ibm-cos-sdk-python/\n",
    "# pandas documentation: http://pandas.pydata.org/\n",
    "streaming_body_3 = client_e99d8cae463e44cc9485738f851cc0e1.get_object(Bucket='bionotebook-donotdelete-pr-tjs3njrzxxnlec', Key='ls_orchid.gbk')['Body']\n",
    "# add missing __iter__ method so pandas accepts body as file-like object\n",
    "if not hasattr(streaming_body_3, \"__iter__\"): streaming_body_3.__iter__ = types.MethodType( __iter__, streaming_body_3 ) \n",
    "\n"
   ]
  },
  {
   "cell_type": "markdown",
   "metadata": {},
   "source": [
    "Now let’s load the GenBank file ls_orchid.gbk"
   ]
  },
  {
   "cell_type": "code",
   "execution_count": 7,
   "metadata": {},
   "outputs": [
    {
     "name": "stdout",
     "output_type": "stream",
     "text": [
      "ID: Z78533.1\n",
      "Name: Z78533\n",
      "Description: C.irapeanum 5.8S rRNA gene and ITS1 and ITS2 DNA\n",
      "Number of features: 5\n",
      "/source=Cypripedium irapeanum\n",
      "/taxonomy=[u'Eukaryota', u'Viridiplantae', u'Streptophyta', u'Embryophyta', u'Tracheophyta', u'Spermatophyta', u'Magnoliophyta', u'Liliopsida', u'Asparagales', u'Orchidaceae', u'Cypripedioideae', u'Cypripedium']\n",
      "/gi=2765658\n",
      "/keywords=[u'5.8S ribosomal RNA', u'5.8S rRNA gene', u'internal transcribed spacer', u'ITS1', u'ITS2']\n",
      "/references=[Reference(title=u'Phylogenetics of the slipper orchids (Cypripedioideae: Orchidaceae): nuclear rDNA ITS sequences', ...), Reference(title=u'Direct Submission', ...)]\n",
      "/accessions=[u'Z78533']\n",
      "/molecule_type=DNA\n",
      "/data_file_division=PLN\n",
      "/date=30-NOV-2006\n",
      "/organism=Cypripedium irapeanum\n",
      "/sequence_version=1\n",
      "/topology=linear\n",
      "Seq('CGTAACAAGGTTTCCGTAGGTGAACCTGCGGAAGGATCATTGATGAGACCGTGG...CGC', IUPACAmbiguousDNA())\n"
     ]
    }
   ],
   "source": [
    "\n",
    "genbankreadbytes = streaming_body_3.read()\n",
    "record_iterator = SeqIO.parse(StringIO(genbankreadbytes.decode('utf-8')), \"genbank\")\n",
    "first_record = next(record_iterator)\n",
    "print(first_record)"
   ]
  },
  {
   "cell_type": "markdown",
   "metadata": {},
   "source": [
    "Biological sequences are arguably the central object in Bioinformatics, and in this chapter we’ll introduce the Biopython mechanism for dealing with sequences, the Seq object. Chapter 4 will introduce the related SeqRecord object, which combines the sequence information with any annotation, used again in Chapter 5 for Sequence Input/Output.\n",
    "\n",
    "Sequences are essentially strings of letters like AGTACACTGGT, which seems very natural since this is the most common way that sequences are seen in biological file formats.\n",
    "\n",
    "There are two important differences between Seq objects and standard Python strings. First of all, they have different methods. Although the Seq object supports many of the same methods as a plain string, its translate() method differs by doing biological translation, and there are also additional biologically relevant methods like reverse_complement(). Secondly, the Seq object has an important attribute, alphabet, which is an object describing what the individual characters making up the sequence string “mean”, and how they should be interpreted. For example, is AGTACACTGGT a DNA sequence, or just a protein sequence that happens to be rich in Alanines, Glycines, Cysteines and Threonines?"
   ]
  },
  {
   "cell_type": "code",
   "execution_count": 8,
   "metadata": {},
   "outputs": [
    {
     "name": "stdout",
     "output_type": "stream",
     "text": [
      "{'source': u'Cypripedium irapeanum', 'taxonomy': [u'Eukaryota', u'Viridiplantae', u'Streptophyta', u'Embryophyta', u'Tracheophyta', u'Spermatophyta', u'Magnoliophyta', u'Liliopsida', u'Asparagales', u'Orchidaceae', u'Cypripedioideae', u'Cypripedium'], 'gi': u'2765658', 'keywords': [u'5.8S ribosomal RNA', u'5.8S rRNA gene', u'internal transcribed spacer', u'ITS1', u'ITS2'], 'references': [Reference(title=u'Phylogenetics of the slipper orchids (Cypripedioideae: Orchidaceae): nuclear rDNA ITS sequences', ...), Reference(title=u'Direct Submission', ...)], 'accessions': [u'Z78533'], 'molecule_type': u'DNA', 'data_file_division': u'PLN', 'date': u'30-NOV-2006', 'organism': u'Cypripedium irapeanum', 'sequence_version': 1, 'topology': u'linear'}\n"
     ]
    }
   ],
   "source": [
    "print(first_record.annotations)"
   ]
  },
  {
   "cell_type": "code",
   "execution_count": 9,
   "metadata": {},
   "outputs": [
    {
     "name": "stdout",
     "output_type": "stream",
     "text": [
      "['source', 'taxonomy', 'gi', 'keywords', 'references', 'accessions', 'molecule_type', 'data_file_division', 'date', 'organism', 'sequence_version', 'topology']\n"
     ]
    }
   ],
   "source": [
    "print(first_record.annotations.keys())"
   ]
  },
  {
   "cell_type": "code",
   "execution_count": 10,
   "metadata": {},
   "outputs": [
    {
     "name": "stdout",
     "output_type": "stream",
     "text": [
      "[u'Cypripedium irapeanum', [u'Eukaryota', u'Viridiplantae', u'Streptophyta', u'Embryophyta', u'Tracheophyta', u'Spermatophyta', u'Magnoliophyta', u'Liliopsida', u'Asparagales', u'Orchidaceae', u'Cypripedioideae', u'Cypripedium'], u'2765658', [u'5.8S ribosomal RNA', u'5.8S rRNA gene', u'internal transcribed spacer', u'ITS1', u'ITS2'], [Reference(title=u'Phylogenetics of the slipper orchids (Cypripedioideae: Orchidaceae): nuclear rDNA ITS sequences', ...), Reference(title=u'Direct Submission', ...)], [u'Z78533'], u'DNA', u'PLN', u'30-NOV-2006', u'Cypripedium irapeanum', 1, u'linear']\n"
     ]
    }
   ],
   "source": [
    "print(first_record.annotations.values())"
   ]
  },
  {
   "cell_type": "code",
   "execution_count": 11,
   "metadata": {},
   "outputs": [
    {
     "data": {
      "text/plain": [
       "[u'Z78484.1',\n",
       " u'Z78464.1',\n",
       " u'Z78455.1',\n",
       " u'Z78442.1',\n",
       " u'Z78532.1',\n",
       " u'Z78453.1',\n",
       " u'Z78441.1',\n",
       " u'Z78444.1',\n",
       " u'Z78529.1',\n",
       " u'Z78505.1',\n",
       " u'Z78443.1',\n",
       " u'Z78531.1',\n",
       " u'Z78446.1',\n",
       " u'Z78449.1',\n",
       " u'Z78488.1',\n",
       " u'Z78467.1',\n",
       " u'Z78462.1',\n",
       " u'Z78496.1',\n",
       " u'Z78518.1',\n",
       " u'Z78523.1',\n",
       " u'Z78494.1',\n",
       " u'Z78521.1',\n",
       " u'Z78516.1',\n",
       " u'Z78527.1',\n",
       " u'Z78457.1',\n",
       " u'Z78481.1',\n",
       " u'Z78483.1',\n",
       " u'Z78439.1',\n",
       " u'Z78440.1',\n",
       " u'Z78530.1',\n",
       " u'Z78448.1',\n",
       " u'Z78511.1',\n",
       " u'Z78497.1',\n",
       " u'Z78519.1',\n",
       " u'Z78495.1',\n",
       " u'Z78472.1',\n",
       " u'Z78480.1',\n",
       " u'Z78482.1',\n",
       " u'Z78466.1',\n",
       " u'Z78474.1',\n",
       " u'Z78500.1',\n",
       " u'Z78491.1',\n",
       " u'Z78502.1',\n",
       " u'Z78461.1',\n",
       " u'Z78490.1',\n",
       " u'Z78476.1',\n",
       " u'Z78478.1',\n",
       " u'Z78524.1',\n",
       " u'Z78508.1',\n",
       " u'Z78498.1',\n",
       " u'Z78513.1',\n",
       " u'Z78470.1',\n",
       " u'Z78486.1',\n",
       " u'Z78458.1',\n",
       " u'Z78468.1',\n",
       " u'Z78454.1',\n",
       " u'Z78487.1',\n",
       " u'Z78473.1',\n",
       " u'Z78465.1',\n",
       " u'Z78507.1',\n",
       " u'Z78475.1',\n",
       " u'Z78504.1',\n",
       " u'Z78533.1',\n",
       " u'Z78452.1',\n",
       " u'Z78510.1',\n",
       " u'Z78501.1',\n",
       " u'Z78445.1',\n",
       " u'Z78506.1',\n",
       " u'Z78503.1',\n",
       " u'Z78451.1',\n",
       " u'Z78463.1',\n",
       " u'Z78447.1',\n",
       " u'Z78492.1',\n",
       " u'Z78489.1',\n",
       " u'Z78522.1',\n",
       " u'Z78493.1',\n",
       " u'Z78477.1',\n",
       " u'Z78460.1',\n",
       " u'Z78450.1',\n",
       " u'Z78520.1',\n",
       " u'Z78514.1',\n",
       " u'Z78525.1',\n",
       " u'Z78509.1',\n",
       " u'Z78517.1',\n",
       " u'Z78512.1',\n",
       " u'Z78479.1',\n",
       " u'Z78515.1',\n",
       " u'Z78499.1',\n",
       " u'Z78526.1',\n",
       " u'Z78459.1',\n",
       " u'Z78456.1',\n",
       " u'Z78469.1',\n",
       " u'Z78485.1',\n",
       " u'Z78471.1']"
      ]
     },
     "execution_count": 11,
     "metadata": {},
     "output_type": "execute_result"
    }
   ],
   "source": [
    "orchid_dict = SeqIO.to_dict(SeqIO.parse(StringIO(genbankreadbytes.decode('utf-8')), \"genbank\"))\n",
    "len(orchid_dict)\n",
    "list(orchid_dict.keys())"
   ]
  },
  {
   "cell_type": "markdown",
   "metadata": {},
   "source": [
    "In general, ‘organism’ is used for the scientific name (in Latin, e.g. Arabidopsis thaliana), while ‘source’ will often be the common name (e.g. thale cress). In this example, as is often the case, the two fields are identical.\n",
    "\n",
    "Now let’s go through all the records, building up a list of the species each orchid sequence is from:"
   ]
  },
  {
   "cell_type": "code",
   "execution_count": 55,
   "metadata": {},
   "outputs": [
    {
     "name": "stdout",
     "output_type": "stream",
     "text": [
      "[u'Cypripedium irapeanum', u'Cypripedium californicum', u'Cypripedium fasciculatum', u'Cypripedium margaritaceum', u'Cypripedium lichiangense', u'Cypripedium yatabeanum', u'Cypripedium guttatum', u'Cypripedium acaule', u'Cypripedium formosanum', u'Cypripedium himalaicum', u'Cypripedium macranthon', u'Cypripedium calceolus', u'Cypripedium segawai', u'Cypripedium parviflorum var. pubescens', u'Cypripedium reginae', u'Cypripedium flavum', u'Cypripedium passerinum', u'Mexipedium xerophyticum', u'Phragmipedium schlimii', u'Phragmipedium besseae', u'Phragmipedium wallisii', u'Phragmipedium exstaminodium', u'Phragmipedium caricinum', u'Phragmipedium pearcei', u'Phragmipedium longifolium', u'Phragmipedium lindenii', u'Phragmipedium lindleyanum', u'Phragmipedium sargentianum', u'Phragmipedium kaiteurum', u'Phragmipedium czerwiakowianum', u'Phragmipedium boissierianum', u'Phragmipedium caudatum', u'Phragmipedium warszewiczianum', u'Paphiopedilum micranthum', u'Paphiopedilum malipoense', u'Paphiopedilum delenatii', u'Paphiopedilum armeniacum', u'Paphiopedilum emersonii', u'Paphiopedilum niveum', u'Paphiopedilum godefroyae', u'Paphiopedilum bellatulum', u'Paphiopedilum concolor', u'Paphiopedilum fairrieanum', u'Paphiopedilum druryi', u'Paphiopedilum tigrinum', u'Paphiopedilum hirsutissimum', u'Paphiopedilum barbigerum', u'Paphiopedilum henryanum', u'Paphiopedilum charlesworthii', u'Paphiopedilum villosum', u'Paphiopedilum exul', u'Paphiopedilum insigne', u'Paphiopedilum gratrixianum', u'Paphiopedilum primulinum', u'Paphiopedilum victoria', u'Paphiopedilum victoria', u'Paphiopedilum glaucophyllum', u'Paphiopedilum supardii', u'Paphiopedilum kolopakingii', u'Paphiopedilum sanderianum', u'Paphiopedilum lowii', u'Paphiopedilum dianthum', u'Paphiopedilum parishii', u'Paphiopedilum haynaldianum', u'Paphiopedilum adductum', u'Paphiopedilum stonei', u'Paphiopedilum philippinense', u'Paphiopedilum rothschildianum', u'Paphiopedilum glanduliferum', u'Paphiopedilum glanduliferum', u'Paphiopedilum sukhakulii', u'Paphiopedilum wardii', u'Paphiopedilum ciliolare', u'Paphiopedilum dayanum', u'Paphiopedilum hennisianum', u'Paphiopedilum callosum', u'Paphiopedilum tonsum', u'Paphiopedilum javanicum', u'Paphiopedilum fowliei', u'Paphiopedilum schoseri', u'Paphiopedilum bougainvilleanum', u'Paphiopedilum hookerae', u'Paphiopedilum papuanum', u'Paphiopedilum mastersianum', u'Paphiopedilum argus', u'Paphiopedilum venustum', u'Paphiopedilum acmodontum', u'Paphiopedilum urbanianum', u'Paphiopedilum appletonianum', u'Paphiopedilum lawrenceanum', u'Paphiopedilum bullenianum', u'Paphiopedilum superbiens', u'Paphiopedilum purpuratum', u'Paphiopedilum barbatum']\n"
     ]
    }
   ],
   "source": [
    "all_species = []\n",
    "for seq_record in SeqIO.parse(StringIO(genbankreadbytes.decode('utf-8')), \"genbank\"):\n",
    "    all_species.append(seq_record.annotations[\"organism\"])\n",
    "print(all_species)"
   ]
  },
  {
   "cell_type": "code",
   "execution_count": 12,
   "metadata": {},
   "outputs": [
    {
     "name": "stdout",
     "output_type": "stream",
     "text": [
      "P.supardii 5.8S rRNA gene and ITS1 and ITS2 DNA\n"
     ]
    }
   ],
   "source": [
    "#list(orchid_dict.values()) #lots of output!\n",
    "seq_record = orchid_dict[\"Z78475.1\"]\n",
    "print(seq_record.description)"
   ]
  },
  {
   "cell_type": "code",
   "execution_count": 13,
   "metadata": {},
   "outputs": [
    {
     "name": "stdout",
     "output_type": "stream",
     "text": [
      "Seq('CGTAACAAGGTTTCCGTAGGTGAACCTGCGGAAGGATCATTGTTGAGATCACAT...GGT', IUPACAmbiguousDNA())\n"
     ]
    }
   ],
   "source": [
    "print(repr(seq_record.seq))"
   ]
  },
  {
   "cell_type": "markdown",
   "metadata": {},
   "source": [
    "Sequence parsing plus simple plots\n",
    "\n",
    "There are lots of times when you might want to visualise the distribution of sequence lengths in a dataset – for example the range of contig sizes in a genome assembly project. In this example we’ll reuse our orchid FASTA file ls_orchid.fasta which has only 94 sequences."
   ]
  },
  {
   "cell_type": "code",
   "execution_count": 15,
   "metadata": {},
   "outputs": [
    {
     "data": {
      "image/png": "[encoded data removed]",
      "text/plain": [
       "<matplotlib.figure.Figure at 0x7f6410e9b3d0>"
      ]
     },
     "metadata": {},
     "output_type": "display_data"
    }
   ],
   "source": [
    "sizes = [len(rec) for rec in SeqIO.parse(StringIO(fastareadbytes.decode('utf-8')), \"fasta\")]\n",
    "\n",
    "import pylab\n",
    "pylab.hist(sizes, bins=20)\n",
    "pylab.title(\"%i orchid sequences\\nLengths %i to %i\" \\\n",
    "            % (len(sizes),min(sizes),max(sizes)))\n",
    "pylab.xlabel(\"Sequence length (bp)\")\n",
    "pylab.ylabel(\"Count\")\n",
    "pylab.show()"
   ]
  },
  {
   "cell_type": "markdown",
   "metadata": {},
   "source": [
    "Notice that most of these orchid sequences are about 740 bp long, and there could be two distinct classes of sequence here with a subset of shorter sequences."
   ]
  },
  {
   "cell_type": "markdown",
   "metadata": {},
   "source": [
    "Plot of sequence GC%\n",
    "\n",
    "Another easily calculated quantity of a nucleotide sequence is the GC%. You might want to look at the GC% of all the genes in a bacterial genome for example, and investigate any outliers which could have been recently acquired by horizontal gene transfer. Again, for this example we’ll reuse our orchid FASTA file ls_orchid.fasta.\n",
    "\n",
    "First of all, we will use Bio.SeqIO to parse the FASTA file and compile a list of all the GC percentages. "
   ]
  },
  {
   "cell_type": "code",
   "execution_count": 16,
   "metadata": {},
   "outputs": [],
   "source": [
    "from Bio.SeqUtils import GC\n",
    "\n",
    "gc_values = sorted(GC(rec.seq) for rec in SeqIO.parse(StringIO(fastareadbytes.decode('utf-8')), \"fasta\"))"
   ]
  },
  {
   "cell_type": "code",
   "execution_count": 17,
   "metadata": {},
   "outputs": [
    {
     "data": {
      "image/png": "[encoded data removed]",
      "text/plain": [
       "<matplotlib.figure.Figure at 0x7f6410ea9550>"
      ]
     },
     "metadata": {},
     "output_type": "display_data"
    }
   ],
   "source": [
    "import pylab\n",
    "pylab.plot(gc_values)\n",
    "pylab.title(\"%i orchid sequences\\nGC%% %0.1f to %0.1f\" \\\n",
    "            % (len(gc_values),min(gc_values),max(gc_values)))\n",
    "pylab.xlabel(\"Genes\")\n",
    "pylab.ylabel(\"GC%\")\n",
    "pylab.show()\n"
   ]
  },
  {
   "cell_type": "code",
   "execution_count": 25,
   "metadata": {},
   "outputs": [],
   "source": [
    "\n",
    "record_iterator = SeqIO.parse(StringIO(fastareadbytes.decode('utf-8')), \"fasta\")\n",
    "rec_one = next(record_iterator)\n",
    "rec_two = next(record_iterator)\n",
    "window = 7\n",
    "seq_one = str(rec_one.seq).upper()\n",
    "seq_two = str(rec_two.seq).upper()\n",
    "data = [[(seq_one[i:i + window] != seq_two[j:j + window])\n",
    "         for j in range(len(seq_one) - window)]\n",
    "        for i in range(len(seq_two) - window)]"
   ]
  },
  {
   "cell_type": "markdown",
   "metadata": {},
   "source": [
    "Nucleotide dot plots\n",
    "\n",
    " A dot plot is a way of visually comparing two nucleotide sequences for similarity to each other. A sliding window is used to compare short sub-sequences to each other, often with a mis-match threshold. Here for simplicity we’ll only look for perfect matches (shown in black in the plot below).\n",
    "\n",
    "To start off, we’ll need two sequences. For the sake of argument, we’ll just take the first two from our orchid FASTA file ls_orchid.fasta."
   ]
  },
  {
   "cell_type": "code",
   "execution_count": 26,
   "metadata": {},
   "outputs": [
    {
     "name": "stdout",
     "output_type": "stream",
     "text": [
      "244 unique matches\n"
     ]
    }
   ],
   "source": [
    "window = 7\n",
    "dict_one = {}\n",
    "dict_two = {}\n",
    "for (seq, section_dict) in [(str(rec_one.seq).upper(), dict_one),\n",
    "                            (str(rec_two.seq).upper(), dict_two)]:\n",
    "    for i in range(len(seq)-window):\n",
    "        section = seq[i:i+window]\n",
    "        try:\n",
    "            section_dict[section].append(i)\n",
    "        except KeyError:\n",
    "            section_dict[section] = [i]\n",
    "#Now find any sub-sequences found in both sequences\n",
    "#(Python 2.3 would require slightly different code here)\n",
    "matches = set(dict_one).intersection(dict_two)\n",
    "print(\"%i unique matches\" % len(matches))"
   ]
  },
  {
   "cell_type": "code",
   "execution_count": 27,
   "metadata": {},
   "outputs": [],
   "source": [
    "#Create lists of x and y co-ordinates for scatter plot\n",
    "x = []\n",
    "y = []\n",
    "for section in matches:\n",
    "    for i in dict_one[section]:\n",
    "        for j in dict_two[section]:\n",
    "            x.append(i)\n",
    "            y.append(j)"
   ]
  },
  {
   "cell_type": "markdown",
   "metadata": {},
   "source": [
    "we’ll compile dictionaries mapping the window sized sub-sequences to their locations, and then take the set intersection to find those sub-sequences found in both sequences. This uses more memory, but is much faster. Secondly, the pylab.imshow() function is limited in the size of matrix it can display. As an alternative, we’ll use the pylab.scatter() function."
   ]
  },
  {
   "cell_type": "code",
   "execution_count": 28,
   "metadata": {},
   "outputs": [
    {
     "data": {
      "image/png": "[encoded data removed]",
      "text/plain": [
       "<matplotlib.figure.Figure at 0x7f6410e261d0>"
      ]
     },
     "metadata": {},
     "output_type": "display_data"
    }
   ],
   "source": [
    "import pylab\n",
    "pylab.cla() #clear any prior graph\n",
    "pylab.gray()\n",
    "pylab.scatter(x,y)\n",
    "pylab.xlim(0, len(rec_one)-window)\n",
    "pylab.ylim(0, len(rec_two)-window)\n",
    "pylab.xlabel(\"%s (length %i bp)\" % (rec_one.id, len(rec_one)))\n",
    "pylab.ylabel(\"%s (length %i bp)\" % (rec_two.id, len(rec_two)))\n",
    "pylab.title(\"Dot plot using window size %i\\n(allowing no mis-matches)\" % window)\n",
    "pylab.show()\n"
   ]
  },
  {
   "cell_type": "markdown",
   "metadata": {},
   "source": [
    "GenomeDiagram\n",
    "\n",
    "GenomeDiagram was designed for drawing whole genomes, in particular prokaryotic genomes, either as linear diagrams (optionally broken up into fragments to fit better) or as circular wheel diagrams. Have a look at Figure 2 in Toth et al. (2006) [3] for a good example. It proved also well suited to drawing quite detailed figures for smaller genomes such as phage, plasmids or mitochrondia, for example see Figures 1 and 2 in Van der Auwera et al. (2009) [4] (shown with additional manual editing).\n",
    "\n",
    "\n",
    "\n",
    "pPCP1 plasmid from Yersinia pestis biovar Microtus, and the top down approach used in Section 17.1.3, but take advantage of the sigil options we’ve now discussed. This time we’ll use arrows for the genes, and overlay them with strand-less features (as plain boxes) showing the position of some restriction digest sites."
   ]
  },
  {
   "cell_type": "code",
   "execution_count": 15,
   "metadata": {},
   "outputs": [],
   "source": [
    "\n",
    "# Your data file was loaded into a botocore.response.StreamingBody object.\n",
    "# Please read the documentation of ibm_boto3 and pandas to learn more about your possibilities to load the data.\n",
    "# ibm_boto3 documentation: https://ibm.github.io/ibm-cos-sdk-python/\n",
    "# pandas documentation: http://pandas.pydata.org/\n",
    "streaming_body_5 = client_6a0ba3944e2049c5a18c05adcdb36b67.get_object(Bucket='genomica-donotdelete-pr-i7p4mrbalfhwir', Key='NC_005816.gb')['Body']\n",
    "# add missing __iter__ method so pandas accepts body as file-like object\n",
    "if not hasattr(streaming_body_5, \"__iter__\"): streaming_body_5.__iter__ = types.MethodType( __iter__, streaming_body_5 ) \n",
    "\n",
    "peste = streaming_body_5.read()"
   ]
  },
  {
   "cell_type": "code",
   "execution_count": 16,
   "metadata": {},
   "outputs": [
    {
     "data": {
      "image/png": "[encoded data removed]",
      "text/plain": [
       "<IPython.core.display.Image object>"
      ]
     },
     "execution_count": 16,
     "metadata": {},
     "output_type": "execute_result"
    }
   ],
   "source": [
    "from reportlab.lib import colors\n",
    "from reportlab.lib.units import cm\n",
    "from Bio.Graphics import GenomeDiagram\n",
    "from Bio.SeqFeature import SeqFeature, FeatureLocation\n",
    "from IPython.display import display, Image\n",
    "\n",
    "record= SeqIO.read(StringIO(peste.decode('utf-8')), \"genbank\")\n",
    "gd_diagram = GenomeDiagram.Diagram(record.id)\n",
    "gd_track_for_features = gd_diagram.new_track(1, name=\"Annotated Features\")\n",
    "gd_feature_set = gd_track_for_features.new_set()\n",
    "\n",
    "for feature in record.features:\n",
    "    if feature.type != \"gene\":\n",
    "        #Exclude this feature\n",
    "        continue\n",
    "    if len(gd_feature_set) % 2 == 0:\n",
    "        color = colors.blue\n",
    "    else:\n",
    "        color = colors.lightblue\n",
    "    gd_feature_set.add_feature(feature, sigil=\"ARROW\",\n",
    "                               color=color, label=True,\n",
    "                               label_size = 14, label_angle=0)\n",
    "\n",
    "#I want to include some strandless features, so for an example\n",
    "#will use EcoRI recognition sites etc.\n",
    "for site, name, color in [(\"GAATTC\",\"EcoRI\",colors.green),\n",
    "                          (\"CCCGGG\",\"SmaI\",colors.orange),\n",
    "                          (\"AAGCTT\",\"HindIII\",colors.red),\n",
    "                          (\"GGATCC\",\"BamHI\",colors.purple)]:\n",
    "    index = 0\n",
    "    while True:\n",
    "        index  = record.seq.find(site, start=index)\n",
    "        if index == -1 : break\n",
    "        feature = SeqFeature(FeatureLocation(index, index+len(site)))\n",
    "        gd_feature_set.add_feature(feature, color=color, name=name,\n",
    "                                   label=True, label_size = 10,\n",
    "                                   label_color=color)\n",
    "        index += len(site)\n",
    "\n",
    "#gd_diagram.draw(format=\"linear\", pagesize='A4', fragments=4,start=0, end=len(record))\n",
    "gd_diagram.draw(format=\"linear\", pagesize='A4', fragments=4,\n",
    "                start=0, end=len(record))\n",
    "\n",
    "gd_diagram.write(\"plasmid_linear_nice.eps\", \"EPS\")\n",
    "gd_diagram.write(\"plasmid_linear_nice.svg\", \"SVG\")\n",
    "Image(gd_diagram.write_to_string(\"PNG\"))\n",
    "\n"
   ]
  },
  {
   "cell_type": "code",
   "execution_count": 52,
   "metadata": {},
   "outputs": [
    {
     "data": {
      "image/png": "[encoded data removed]",
      "text/plain": [
       "<IPython.core.display.Image object>"
      ]
     },
     "execution_count": 52,
     "metadata": {},
     "output_type": "execute_result"
    }
   ],
   "source": [
    "gd_diagram.draw(format=\"circular\", circular=True, pagesize=(20*cm,20*cm),\n",
    "                start=0, end=len(record), circle_core = 0.5)\n",
    "\n",
    "gd_diagram.write(\"plasmid_circular_nice.pdf\", \"PDF\")\n",
    "gd_diagram.write(\"plasmid_circular_nice.eps\", \"EPS\")\n",
    "gd_diagram.write(\"plasmid_circular_nice.svg\", \"SVG\")\n",
    "\n",
    "Image(gd_diagram.write_to_string(\"PNG\"))\n"
   ]
  }
 ],
 "metadata": {
  "kernelspec": {
   "display_name": "Python 2.7",
   "language": "python",
   "name": "python2"
  },
  "language_info": {
   "codemirror_mode": {
    "name": "ipython",
    "version": 2
   },
   "file_extension": ".py",
   "mimetype": "text/x-python",
   "name": "python",
   "nbconvert_exporter": "python",
   "pygments_lexer": "ipython2",
   "version": "2.7.15"
  }
 },
 "nbformat": 4,
 "nbformat_minor": 1
}
